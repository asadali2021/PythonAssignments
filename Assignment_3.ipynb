{
 "cells": [
  {
   "cell_type": "code",
   "execution_count": 12,
   "id": "fe06bfd7",
   "metadata": {},
   "outputs": [
    {
     "name": "stdout",
     "output_type": "stream",
     "text": [
      "Twinkle, twinkle little star,\n",
      "\tHow I wonder what you are!\n",
      "\t \tUp above the world so high,\n",
      "\t \tLike a diamond in the sky.\n",
      "Twinkle,twinkle, little star,\n",
      "\tHow I wonder what you are\n"
     ]
    }
   ],
   "source": [
    "'''  Q:1 Write a python program to print the following string in a specific\n",
    "format (see the output).\n",
    "Twinkle, twinkle little star, \n",
    "       How I wonder what you are!\n",
    "               Up above the world so high,\n",
    "               Like a diamond in the sky.\n",
    "Twinkle,twinkle, little star,\n",
    "        How I wonder what you are'''\n",
    "\n",
    "\n",
    "#    ********     Solution      ********\n",
    "\n",
    "str_1 = \"Twinkle, twinkle little star,\";\n",
    "str_2 = \"How I wonder what you are!\";\n",
    "str_3 = \"Up above the world so high,\";\n",
    "str_4 = \"Like a diamond in the sky.\";\n",
    "str_5 = \"Twinkle,twinkle, little star,\";\n",
    "str_6 = \"How I wonder what you are\";\n",
    "\n",
    "print(str_1 + \"\\n\" + \"\\t\"+ str_2 + \"\\n\" + \"\\t \\t\" + str_3 +\"\\n\" + \"\\t \\t\" + str_4 + \"\\n\" + str_5 + \"\\n\" + \"\\t\" + str_6 );"
   ]
  },
  {
   "cell_type": "code",
   "execution_count": 13,
   "id": "04cd36b0",
   "metadata": {},
   "outputs": [
    {
     "name": "stdout",
     "output_type": "stream",
     "text": [
      "The Python version i am using is: 3.8.8\n"
     ]
    }
   ],
   "source": [
    "#  Q:2 Write a program to get the Python version you are using\n",
    "\n",
    "# ********   Solution       **********  \n",
    "\n",
    "from platform import python_version;\n",
    "\n",
    "print(\"The Python version i am using is: \"+python_version());"
   ]
  },
  {
   "cell_type": "code",
   "execution_count": 20,
   "id": "d8e6af62",
   "metadata": {},
   "outputs": [
    {
     "name": "stdout",
     "output_type": "stream",
     "text": [
      "The current date and time is: 22-10-2021 00:41:06\n"
     ]
    }
   ],
   "source": [
    "#  Q:3 Write a Python program to display the current date and time\n",
    "\n",
    "# ****** Solution   **********\n",
    "\n",
    "import datetime;\n",
    "Current_date_and_time = datetime.datetime.now();\n",
    "print (\"The current date and time is: \" + Current_date_and_time.strftime(\"%d-%m-%Y %H:%M:%S\"));"
   ]
  },
  {
   "cell_type": "code",
   "execution_count": 18,
   "id": "aaaeccbc",
   "metadata": {},
   "outputs": [
    {
     "name": "stdout",
     "output_type": "stream",
     "text": [
      "Enter the radius in meter (m) of the circle you want the area of: 4\n",
      "The area of the circle with radius 4.0 is: 50.26548245743669 meter squared\n"
     ]
    }
   ],
   "source": [
    "'''  Q:4 Write a Python program which accepts the radius of a circle\n",
    "from the user and compute the area '''\n",
    "\n",
    "#    ******  Solution  **********\n",
    "#  Using single * as a multiply and double ** to use as a Power of 2\n",
    "\n",
    "from math import pi;\n",
    "Radius_of_circle = float(input (\"Enter the radius in meter (m) of the circle you want the area of: \"));\n",
    "print (\"The area of the circle with radius \" + str(Radius_of_circle) + \" is: \" + str(pi * Radius_of_circle**2) + \" meter squared\");"
   ]
  },
  {
   "cell_type": "code",
   "execution_count": 19,
   "id": "9bd3e172",
   "metadata": {},
   "outputs": [
    {
     "name": "stdout",
     "output_type": "stream",
     "text": [
      "Enter your first name: asad\n",
      "Enter your last name: ali\n",
      "Your name in reverse order: ali asad\n"
     ]
    }
   ],
   "source": [
    "'''  Q:5 Write a Python program which accepts the user's first and last name\n",
    "and print them in reverse order with a space in between them '''\n",
    "\n",
    "#     ******  Solution    ******\n",
    "\n",
    "first_name = input(\"Enter your first name: \");\n",
    "last_name = input(\"Enter your last name: \");\n",
    "print(\"Your name in reverse order: \" + last_name + \" \" + first_name);"
   ]
  },
  {
   "cell_type": "code",
   "execution_count": 21,
   "id": "3c351e14",
   "metadata": {},
   "outputs": [
    {
     "name": "stdout",
     "output_type": "stream",
     "text": [
      "Enter first number: 12\n",
      "Enter second number: 12\n",
      "The addition of the two numbers is: 24.0\n"
     ]
    }
   ],
   "source": [
    "'''Q:6 Write a Python program which takes two inputs from user and print them  \n",
    "addition'''\n",
    "\n",
    "#     ******  SOlution   ********\n",
    "\n",
    "num_1 = float(input(\"Enter first number: \"));\n",
    "num_2 = float(input(\"Enter second number: \"));\n",
    "addition = num_1+num_2;\n",
    "print(\"The addition of the two numbers is: \" + str(addition));\n"
   ]
  },
  {
   "cell_type": "code",
   "execution_count": 94,
   "id": "c44d8aa2",
   "metadata": {},
   "outputs": [
    {
     "name": "stdout",
     "output_type": "stream",
     "text": [
      "Enter marks of English out of 100: 92\n",
      "Enter marks of Physics out of 100: 88\n",
      "Enter marks of Mathematics out of 100: 90\n",
      "Enter marks of Chemistry out of 100: 72\n",
      "Enter marks of Urdu out of 100: 90\n",
      "\n",
      " You got the Grand Total Marks: 432.0 out of 500 \n",
      "\n",
      "\n",
      "Your Percentage is: 86.4%\n",
      "\n",
      "Your Grade is A\n"
     ]
    }
   ],
   "source": [
    "'''  Q:7 Write a program whch takes 5 inputs from user for \n",
    "different (subject's) marks, total it and generate marks sheet using grades'''\n",
    "\n",
    "#     ******  Solution    ******\n",
    "\n",
    "sub_1 = float(input(\"Enter marks of English out of 100: \"));\n",
    "sub_2 = float(input(\"Enter marks of Physics out of 100: \"));\n",
    "sub_3 = float(input(\"Enter marks of Mathematics out of 100: \"));\n",
    "sub_4 = float(input(\"Enter marks of Chemistry out of 100: \"));\n",
    "sub_5 = float(input(\"Enter marks of Urdu out of 100: \"));\n",
    "totalMarks = 100;\n",
    "grandTotal = 500;\n",
    "fullMarks = sub_1+sub_2+sub_3+sub_4+sub_5;\n",
    "passingMarks = (sub_1+sub_2+sub_3+sub_4+sub_5)/grandTotal;\n",
    "print(\"\\n\"+ \" You got the Grand Total Marks: \"+ str(fullMarks) + \" out of 500 \"+\"\\n\");\n",
    "percentage = passingMarks*100;\n",
    "print(\"\\n\" +\"Your Percentage is: \" + str(percentage) + \"%\" + \"\\n\");\n",
    "if percentage < 100 and percentage > 80:\n",
    "    print(\"Your Grade is A\");\n",
    "elif percentage < 80 and percentage > 70:\n",
    "      print(\"Your Grade is B\");\n",
    "elif percentage < 70 and percentage > 60:\n",
    "      print(\"Your Grade is C\");\n",
    "elif percentage < 60 and percentage > 50:\n",
    "      print(\"Your Grade id D\");\n",
    "else: \n",
    "      print(\"You Failed, Work Harder Next Time\");"
   ]
  },
  {
   "cell_type": "code",
   "execution_count": 30,
   "id": "b4cc477a",
   "metadata": {},
   "outputs": [
    {
     "name": "stdout",
     "output_type": "stream",
     "text": [
      "Enter a number to check it is even or odd: 3\n",
      "Your number 3.0 is Odd\n"
     ]
    }
   ],
   "source": [
    "'''  Q:8 Write a program which takes input from user and\n",
    "identify the given number is even or odd '''\n",
    "\n",
    "#      ******** Solution     ************\n",
    "\n",
    "number_from_user = float(input(\"Enter a number to check it is even or odd: \"));\n",
    "if (number_from_user%2) == 0:\n",
    "    print(\"Your number \" + str(number_from_user) + \" is \" + \"Even\");\n",
    "else:\n",
    "    print(\"Your number \" + str(number_from_user) + \" is \" + \"Odd\");"
   ]
  },
  {
   "cell_type": "code",
   "execution_count": 31,
   "id": "d5bce312",
   "metadata": {},
   "outputs": [
    {
     "name": "stdout",
     "output_type": "stream",
     "text": [
      "Enter a number to check it is even or odd: 4\n",
      "Your number 4.0 is Even\n"
     ]
    }
   ],
   "source": [
    "'''  Q:8 Write a program which takes input from user and\n",
    "identify the given number is even or odd '''\n",
    "\n",
    "#      ******** Solution     ************\n",
    "\n",
    "number_from_user = float(input(\"Enter a number to check it is even or odd: \"));\n",
    "if (number_from_user%2) == 0:\n",
    "    print(\"Your number \" + str(number_from_user) + \" is \" + \"Even\");\n",
    "else:\n",
    "    print(\"Your number \" + str(number_from_user) + \" is \" + \"Odd\");"
   ]
  },
  {
   "cell_type": "code",
   "execution_count": 58,
   "id": "dfd45201",
   "metadata": {},
   "outputs": [
    {
     "name": "stdout",
     "output_type": "stream",
     "text": [
      "Number of items in the list =  6\n"
     ]
    }
   ],
   "source": [
    "#   Q:9   Write a Pyhon Program to print the length of the list\n",
    "\n",
    "#  *********  Solution    **********\n",
    "\n",
    "My_list = [1,2, \"Syed\", \"Asad\", \"Ali\", \"Jawan Pakistan Zinda Baad\"];\n",
    "print (\"Number of items in the list = \", len(My_list));"
   ]
  },
  {
   "cell_type": "code",
   "execution_count": 84,
   "id": "d380db16",
   "metadata": {},
   "outputs": [
    {
     "name": "stdout",
     "output_type": "stream",
     "text": [
      "The sum of numeric items in the list is:  10\n"
     ]
    }
   ],
   "source": [
    "#    Q:10  Write a Python program to sum all the numeric items in a list \n",
    "\n",
    "\n",
    "#    ***************   Solution   *************\n",
    "\n",
    "My_list_2 = [1,2,3,4];\n",
    "total_elements = sum(My_list_2)\n",
    "print(\"The sum of numeric items in the list is: \",str(total_elements) );"
   ]
  },
  {
   "cell_type": "code",
   "execution_count": 86,
   "id": "b88e196f",
   "metadata": {},
   "outputs": [
    {
     "name": "stdout",
     "output_type": "stream",
     "text": [
      "The largest number in the list is:  14\n"
     ]
    }
   ],
   "source": [
    "'''  Q: 11  Write a Python program to get the largest number from\n",
    "a numeic list'''\n",
    "\n",
    "#   **********  Solution   *****************\n",
    "\n",
    "the_list = [2,8,12,14];\n",
    "print(\"The largest number in the list is: \" , max(the_list));"
   ]
  },
  {
   "cell_type": "code",
   "execution_count": 88,
   "id": "ba8d9814",
   "metadata": {},
   "outputs": [
    {
     "name": "stdout",
     "output_type": "stream",
     "text": [
      "1\n",
      "1\n",
      "2\n",
      "3\n"
     ]
    }
   ],
   "source": [
    "'''    Q:12  Take a list, say for example this one: \n",
    "\n",
    "     a  =   [1, 1, 2, 3, 5, 68, 13, 21, 34, 55, 89]\n",
    "     \n",
    "     Write a Python program that prints out all the elements of the \n",
    "     list that are less than 5.\n",
    "'''\n",
    "\n",
    "#  **********  Solution  ***********\n",
    "\n",
    "a  =   [1, 1, 2, 3, 5, 68, 13, 21, 34, 55, 89];\n",
    "\n",
    "for less_num in a:\n",
    "    if less_num < 5:\n",
    "        print(less_num);\n"
   ]
  }
 ],
 "metadata": {
  "kernelspec": {
   "display_name": "Python 3",
   "language": "python",
   "name": "python3"
  },
  "language_info": {
   "codemirror_mode": {
    "name": "ipython",
    "version": 3
   },
   "file_extension": ".py",
   "mimetype": "text/x-python",
   "name": "python",
   "nbconvert_exporter": "python",
   "pygments_lexer": "ipython3",
   "version": "3.8.8"
  }
 },
 "nbformat": 4,
 "nbformat_minor": 5
}
