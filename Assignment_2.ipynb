{
 "cells": [
  {
   "cell_type": "code",
   "execution_count": 1,
   "id": "e031ac4b",
   "metadata": {},
   "outputs": [
    {
     "name": "stdout",
     "output_type": "stream",
     "text": [
      "Grade A\n"
     ]
    }
   ],
   "source": [
    "Eng = 85;\n",
    "Isl = 82;\n",
    "Math = 92;\n",
    "totalMarks = 100;\n",
    "fullMarks = 300;\n",
    "passingMarks = (Eng+Isl+Math)/fullMarks;\n",
    "percentage = passingMarks*100;\n",
    "if percentage < 100 and percentage > 80:\n",
    "    print(\"Grade A\");\n",
    "elif percentage < 80 and percentage > 70:\n",
    "      print(\"Grade B\");\n",
    "elif percentage < 70 and percentage > 60:\n",
    "      print(\"Grade C\");\n",
    "elif percentage < 60 and percentage > 50:\n",
    "      print(\"Grade D\");\n",
    "else: \n",
    "      print(\"You Failed, Work Harder next time\");"
   ]
  }
 ],
 "metadata": {
  "kernelspec": {
   "display_name": "Python 3",
   "language": "python",
   "name": "python3"
  },
  "language_info": {
   "codemirror_mode": {
    "name": "ipython",
    "version": 3
   },
   "file_extension": ".py",
   "mimetype": "text/x-python",
   "name": "python",
   "nbconvert_exporter": "python",
   "pygments_lexer": "ipython3",
   "version": "3.8.8"
  }
 },
 "nbformat": 4,
 "nbformat_minor": 5
}
